{
  "nbformat": 4,
  "nbformat_minor": 0,
  "metadata": {
    "colab": {
      "name": "Common Sorting Algorithms.ipynb",
      "provenance": [],
      "authorship_tag": "ABX9TyNsG/2rnDNv4NJpCjfyo6Z5",
      "include_colab_link": true
    },
    "kernelspec": {
      "name": "python3",
      "display_name": "Python 3"
    }
  },
  "cells": [
    {
      "cell_type": "markdown",
      "metadata": {
        "id": "view-in-github",
        "colab_type": "text"
      },
      "source": [
        "<a href=\"https://colab.research.google.com/github/abhi10010/Python-Scripts/blob/master/Common_Sorting_Algorithms.ipynb\" target=\"_parent\"><img src=\"https://colab.research.google.com/assets/colab-badge.svg\" alt=\"Open In Colab\"/></a>"
      ]
    },
    {
      "cell_type": "markdown",
      "metadata": {
        "id": "-6zp960pFLhv",
        "colab_type": "text"
      },
      "source": [
        "<h1><strong>Sorting Algorithm</strong></h1>\n",
        "\n",
        "<h4>A Sorting Algorithm is used to rearrange a given array or list elements according to a comparison operator on the elements. The comparison operator is used to decide the new order of element in the respective data structure.</h4>"
      ]
    },
    {
      "cell_type": "markdown",
      "metadata": {
        "id": "yLpTwXedXUyd",
        "colab_type": "text"
      },
      "source": [
        "<h1>1. Merge Sort</h1>\n",
        "<h5><ul><li>This sorting algirithm uses the classic <a href = 'https://www.geeksforgeeks.org/divide-and-conquer-algorithm-introduction/'>Divide and Conquer</a> algorithm to sort any traversable data structure such as a list.\n",
        "</li>\n",
        "<li>Worst case time complexity is <strong><i>O(n log n)</i></strong>.\n",
        "</li>\n",
        "<li>It is a stable sorting algorithm.</li>\n",
        "</h5> \n"
      ]
    },
    {
      "cell_type": "code",
      "metadata": {
        "id": "w4nUJ2USSuwM",
        "colab_type": "code",
        "outputId": "b32b3e70-3b14-42da-afce-c658febdfbb7",
        "colab": {
          "base_uri": "https://localhost:8080/",
          "height": 34
        }
      },
      "source": [
        "def mergeSort(arr):\n",
        "  \n",
        "  if len(arr) > 1:\n",
        "    mid = len(arr)//2\n",
        "    left = arr[:mid]\n",
        "    right = arr[mid:]\n",
        "\n",
        "    mergeSort(left)\n",
        "    mergeSort(right)\n",
        "\n",
        "    i, j, k = 0, 0, 0\n",
        "\n",
        "    while i<len(left) and j<len(right):\n",
        "      if left[i] < right[j]:\n",
        "        arr[k] = left[i]\n",
        "        i+=1\n",
        "      else:\n",
        "        arr[k] = right[j]\n",
        "        j+=1\n",
        "      k+=1\n",
        "\n",
        "    while i<len(left):\n",
        "      arr[k] = left[i]\n",
        "      i+=1\n",
        "      k+=1\n",
        "\n",
        "    while j<len(right):\n",
        "      arr[k] = right[j]\n",
        "      j+=1\n",
        "      k+=1\n",
        "\n",
        "\n",
        "\n",
        "arr = [5,2,9,1,7,3,8,6,4]\n",
        "mergeSort(arr)\n",
        "print(arr)"
      ],
      "execution_count": 0,
      "outputs": [
        {
          "output_type": "stream",
          "text": [
            "[1, 2, 3, 4, 5, 6, 7, 8, 9]\n"
          ],
          "name": "stdout"
        }
      ]
    },
    {
      "cell_type": "markdown",
      "metadata": {
        "id": "Klh7ByjMdzQT",
        "colab_type": "text"
      },
      "source": [
        "<h1>2. Quick Sort</h1>\n",
        "<h5><ul><li>This is an in-place sorting algirithm.\n",
        "</li>\n",
        "<li>Worst case time complexity is <strong><i>O(n<sup>2</sup>)</i></strong>.\n",
        "</li>\n",
        "<li>It is an unstable sorting algorithm.</li></ul>\n",
        "</h5> \n"
      ]
    },
    {
      "cell_type": "code",
      "metadata": {
        "id": "QhFzKkNDV3mB",
        "colab_type": "code",
        "outputId": "7d851be4-015f-41e4-cbe9-c35a9087002e",
        "colab": {
          "base_uri": "https://localhost:8080/",
          "height": 34
        }
      },
      "source": [
        "def quickSort(arr):\n",
        "\n",
        "  if len(arr) < 2:\n",
        "    return arr\n",
        "\n",
        "  position = 0\n",
        "\n",
        "  for i in range(1, len(arr)):\n",
        "    if arr[i] < arr[0]:\n",
        "      position += 1\n",
        "      arr[i], arr[position] = arr[position], arr[i]\n",
        "\n",
        "  arr[0], arr[position] = arr[position], arr[0]\n",
        "\n",
        "  left = quickSort(arr[0:position])\n",
        "  right = quickSort(arr[position+1:])\n",
        "\n",
        "  arr = left + [arr[position]] + right\n",
        "  return arr\n",
        "\n",
        "\n",
        "arr = [5,2,9,1,7,3,8,6,4]\n",
        "print(quickSort(arr))"
      ],
      "execution_count": 0,
      "outputs": [
        {
          "output_type": "stream",
          "text": [
            "[1, 2, 3, 4, 5, 6, 7, 8, 9]\n"
          ],
          "name": "stdout"
        }
      ]
    },
    {
      "cell_type": "markdown",
      "metadata": {
        "id": "pxwPylWX1piD",
        "colab_type": "text"
      },
      "source": [
        "<h1>3. Insertion Sort</h1>\n",
        "<h5><ul><li>This is a sorting algirithm which builds the sorted structure one element at a time.\n",
        "</li>\n",
        "<li>Worst case time complexity is <strong><i>O(n<sup>2</sup>)</i></strong>.\n",
        "</li>\n",
        "<li>It is a stable sorting algorithm.</li></ul>\n",
        "</h5> \n"
      ]
    },
    {
      "cell_type": "code",
      "metadata": {
        "id": "IfcDtw-aPobc",
        "colab_type": "code",
        "outputId": "6c5a230e-d427-46e9-b460-7f9014095cd0",
        "colab": {
          "base_uri": "https://localhost:8080/",
          "height": 34
        }
      },
      "source": [
        "def insertionSort(arr):\n",
        "  \n",
        "  for i in range(len(arr)):\n",
        "    key = arr[i]\n",
        "    j = i-1\n",
        "\n",
        "    while j>=0 and arr[j]>key:\n",
        "      arr[j+1] = arr[j]\n",
        "      arr[j] = key\n",
        "      j -= 1\n",
        "  \n",
        "  return arr\n",
        "\n",
        "arr = [5,2,9,1,7,3,8,6,4]\n",
        "print(insertionSort(arr))"
      ],
      "execution_count": 0,
      "outputs": [
        {
          "output_type": "stream",
          "text": [
            "[1, 2, 3, 4, 5, 6, 7, 8, 9]\n"
          ],
          "name": "stdout"
        }
      ]
    },
    {
      "cell_type": "markdown",
      "metadata": {
        "id": "xrQPXVdw4Wko",
        "colab_type": "text"
      },
      "source": [
        "<h1>4. Bubble Sort</h1>\n",
        "<h5><ul><li>This is a simple sorting algorithm that continues to swap adjacent values until all the values are sorted.\n",
        "</li>\n",
        "<li>Worst case time complexity is <strong><i>O(n<sup>2</sup>)</i></strong>.\n",
        "</li>\n",
        "<li>It is a stable sorting algorithm.</li></ul>\n",
        "</h5> \n"
      ]
    },
    {
      "cell_type": "code",
      "metadata": {
        "id": "G46LVBdV3mBL",
        "colab_type": "code",
        "outputId": "8a96ea42-302d-4ee2-8a16-a9f4b84392e5",
        "colab": {
          "base_uri": "https://localhost:8080/",
          "height": 34
        }
      },
      "source": [
        "def bubbleSort(arr):\n",
        "  \n",
        "  for i in range(len(arr)-1):\n",
        "    flag = 0\n",
        "    \n",
        "    for j in range(len(arr)-1):\n",
        "      if arr[j] > arr[j+1]:\n",
        "        arr[j], arr[j+1] = arr[j+1], arr[j]\n",
        "        flag = 1\n",
        "    \n",
        "    if flag == 0:\n",
        "      break\n",
        "\n",
        "  return arr\n",
        "\n",
        "arr = [5,2,9,1,7,3,8,6,4]\n",
        "print(bubbleSort(arr))"
      ],
      "execution_count": 0,
      "outputs": [
        {
          "output_type": "stream",
          "text": [
            "[1, 2, 3, 4, 5, 6, 7, 8, 9]\n"
          ],
          "name": "stdout"
        }
      ]
    },
    {
      "cell_type": "markdown",
      "metadata": {
        "id": "HXiqqdfJ6Pm0",
        "colab_type": "text"
      },
      "source": [
        "<h1>5. Selection Sort</h1>\n",
        "<h5><ul><li>This is an in-place comparison-based algorithm.</li>\n",
        "<li>Worst case time complexity is <strong><i>O(n<sup>2</sup>)</i></strong>.\n",
        "</li>\n",
        "<li>It is an ustable sorting algorithm.</li></ul>\n",
        "</h5> "
      ]
    },
    {
      "cell_type": "code",
      "metadata": {
        "id": "ZOuZBNQ95B-i",
        "colab_type": "code",
        "outputId": "a054a050-9c8d-4388-c797-f52147194857",
        "colab": {
          "base_uri": "https://localhost:8080/",
          "height": 34
        }
      },
      "source": [
        "def selectionSort(arr):\n",
        "\n",
        "  for i in range(len(arr)):\n",
        "    min_idx = i\n",
        "\n",
        "    for j in range(i+1, len(arr)):\n",
        "      if arr[j] < arr[min_idx]:\n",
        "        min_idx = j\n",
        "    \n",
        "    arr[i], arr[min_idx] = arr[min_idx], arr[i]\n",
        "\n",
        "  return arr\n",
        "\n",
        "arr = [5,2,9,1,7,3,8,6,4]\n",
        "print(selectionSort(arr))"
      ],
      "execution_count": 0,
      "outputs": [
        {
          "output_type": "stream",
          "text": [
            "[1, 2, 3, 4, 5, 6, 7, 8, 9]\n"
          ],
          "name": "stdout"
        }
      ]
    }
  ]
}